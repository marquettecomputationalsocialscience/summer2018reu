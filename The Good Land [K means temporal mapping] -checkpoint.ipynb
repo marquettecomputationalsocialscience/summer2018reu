{
 "cells": [
  {
   "cell_type": "code",
   "execution_count": 3,
   "metadata": {},
   "outputs": [],
   "source": [
    "import pandas as pd\n",
    "import sklearn.cluster\n",
    "import matplotlib.pyplot as plt\n",
    "import numpy as np\n",
    "\n",
    "colors = np.array(['darkturquoise', 'coral', 'skyblue', 'gold', 'lightgreen', 'green', 'mediumaquamarine',  'pink', 'deepskyblue',  'lightsteelblue', 'blue', 'navy', 'rebeccapurple', 'mediumorchid', 'hotpink', 'red','crimson', 'dimgrey'])"
   ]
  },
  {
   "cell_type": "code",
   "execution_count": null,
   "metadata": {},
   "outputs": [],
   "source": [
    "Span = pd.read_csv('testdata.csv')\n",
    "Eleven = pd.read_csv('2011 crime geo data csv.csv')\n",
    "Twelve = pd.read_csv('2012 crime geo data csv.csv')\n",
    "Thirteen = pd.read_csv('2013 crime geo data csv.csv')\n",
    "Fourteen = pd.read_csv('2014 crime geo data csv.csv')"
   ]
  }
 ],
 "metadata": {
  "kernelspec": {
   "display_name": "Python 3",
   "language": "python",
   "name": "python3"
  },
  "language_info": {
   "codemirror_mode": {
    "name": "ipython",
    "version": 3
   },
   "file_extension": ".py",
   "mimetype": "text/x-python",
   "name": "python",
   "nbconvert_exporter": "python",
   "pygments_lexer": "ipython3",
   "version": "3.6.4"
  }
 },
 "nbformat": 4,
 "nbformat_minor": 2
}
